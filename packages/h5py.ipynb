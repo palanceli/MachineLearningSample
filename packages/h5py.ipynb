{
 "cells": [
  {
   "cell_type": "markdown",
   "metadata": {},
   "source": [
    "# 概念\n",
    "\n",
    "h5py是用来操作HDF5格式的Python库。HDF5格式用来存储用于机器学习的海量数据，这是一个二进制格式的文件。其中包括两类对象：dataset和group，dataset是类似于数组的数据集，group是类似文件夹的容器。\n",
    "\n",
    "# HDF5的读写操作\n",
    "## 创建dataset"
   ]
  },
  {
   "cell_type": "code",
   "execution_count": 9,
   "metadata": {},
   "outputs": [
    {
     "name": "stdout",
     "output_type": "stream",
     "text": [
      "dataset1\n",
      "/dataset1\n",
      "(5,)\n",
      "[0 1 2 3 4]\n",
      "dataset2\n",
      "/dataset2\n",
      "(4, 2)\n",
      "[[0 1]\n",
      " [2 3]\n",
      " [4 5]\n",
      " [6 7]]\n",
      "dataset3\n",
      "/dataset3\n",
      "(4,)\n",
      "[0 1 2 3]\n"
     ]
    }
   ],
   "source": [
    "import h5py\n",
    "import numpy as np\n",
    "import os\n",
    "\n",
    "if os.path.exists('test.h5'):\n",
    "    os.remove('test.h5')\n",
    "    \n",
    "f = h5py.File('test.h5', 'w')  # 创建文件\n",
    "\n",
    "# 方式①\n",
    "d1 = f.create_dataset('dataset1', (5, ), 'i') # 创建dataset，三个参数分别为：名称, shape, 类型\n",
    "d1[...] = np.arange(5)     # 赋值\n",
    "\n",
    "# 方式②\n",
    "f['dataset2'] = np.arange(8).reshape(4, 2) # 创建 + 赋值\n",
    "\n",
    "# 方式③\n",
    "f.create_dataset('dataset3', data = np.arange(4))\n",
    "\n",
    "for key in f.keys():\n",
    "    print(key)\n",
    "    print(f[key].name)\n",
    "    print(f[key].shape)\n",
    "    print(f[key].value)"
   ]
  },
  {
   "cell_type": "markdown",
   "metadata": {},
   "source": [
    "## 创建group"
   ]
  },
  {
   "cell_type": "code",
   "execution_count": 10,
   "metadata": {},
   "outputs": [
    {
     "name": "stdout",
     "output_type": "stream",
     "text": [
      "/group1/dataset1\n",
      "[[0 1 2 3]\n",
      " [4 5 6 7]]\n",
      "/group1/dataset2\n",
      "[0 1 2 3 4]\n"
     ]
    }
   ],
   "source": [
    "g1 = f.create_group('group1') # 创建group\n",
    "\n",
    "g1['dataset1'] = np.arange(8).reshape(2, 4) # 在group内创建dataset\n",
    "d = g1.create_dataset('dataset2', data = np.arange(5))\n",
    "\n",
    "for key in g1.keys():\n",
    "    print(g1[key].name)\n",
    "    print(g1[key].value)"
   ]
  },
  {
   "cell_type": "markdown",
   "metadata": {},
   "source": [
    "## 读文件"
   ]
  },
  {
   "cell_type": "code",
   "execution_count": 24,
   "metadata": {},
   "outputs": [
    {
     "name": "stdout",
     "output_type": "stream",
     "text": [
      "/dataset1\n",
      "(5,)\n",
      "[0 1 2 3 4]\n",
      "/dataset2\n",
      "(4, 2)\n",
      "[[0 1]\n",
      " [2 3]\n",
      " [4 5]\n",
      " [6 7]]\n",
      "/dataset3\n",
      "(4,)\n",
      "[0 1 2 3]\n",
      "/group1/dataset1\n",
      "[[0 1 2 3]\n",
      " [4 5 6 7]]\n",
      "/group1/dataset2\n",
      "[0 1 2 3 4]\n"
     ]
    }
   ],
   "source": [
    "h5 = h5py.File('test.h5', 'r')\n",
    "for key in h5.keys():\n",
    "    if isinstance(h5[key], h5py.Group): # 如果是group，再遍历器内部数据\n",
    "        group = h5[key]\n",
    "        for childkey in group.keys():\n",
    "            print(group[childkey].name)\n",
    "            print(group[childkey].value)\n",
    "    else:                              # 如果是dataset，直接打印结果\n",
    "        dataset = h5[key]\n",
    "        print(dataset.name)\n",
    "        print(dataset.shape)\n",
    "        print(dataset.value)"
   ]
  },
  {
   "cell_type": "markdown",
   "metadata": {},
   "source": [
    "> 参考资料：[HDF5 for Python](http://docs.h5py.org/en/latest/index.html)"
   ]
  }
 ],
 "metadata": {
  "kernelspec": {
   "display_name": "Python 3",
   "language": "python",
   "name": "python3"
  },
  "language_info": {
   "codemirror_mode": {
    "name": "ipython",
    "version": 3
   },
   "file_extension": ".py",
   "mimetype": "text/x-python",
   "name": "python",
   "nbconvert_exporter": "python",
   "pygments_lexer": "ipython3",
   "version": "3.6.3"
  }
 },
 "nbformat": 4,
 "nbformat_minor": 2
}
